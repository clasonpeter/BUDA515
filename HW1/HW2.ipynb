{
 "cells": [
  {
   "metadata": {},
   "cell_type": "markdown",
   "source": [
    "Question 1:\n",
    "\n",
    "You are given the UCI Parkinsons Data Set:\n",
    "https://raw.githubusercontent.com/binbenliu/Teaching/main/data/parkinsons.data\n",
    "This dataset is composed of a range of biomedical voice measurements from 31 people, 23\n",
    "with Parkinson's disease (PD). Each column in the table is a particular voice measure, and\n",
    "each row corresponds one of 195 voice recording from these individuals (\"name\" column).\n",
    "The main aim of the data is to discriminate healthy people from those with PD, according to\n",
    "\"status\" column which is set to 0 for healthy and 1 for PD. The data is in ASCII CSV format.\n",
    "You may find more introduction about the data here:\n",
    "https://archive.ics.uci.edu/ml/datasets/Parkinsons\n",
    "\n",
    "Write Python code in Jupyter notebook to:\n",
    "1) Read the data into pandas DataFreame, and show the top five rows of data.\n",
    "2) Display the summary for all the attributes\n",
    "3) Plot histograms for following attributes: PPE, DFA, MDVP:Fo(Hz)\n",
    "4) For each of the following attributes: PPE, DFA, MDVP:Fo(Hz), plot two histograms: one\n",
    "histogram with all instances with “status” as 1, the other one with all instance with “status”\n",
    "as 0. (You need to label each plot with a proper caption such as using the combination of\n",
    "attribute name and status value). You might be able to see the distribution difference\n",
    "between health status vs non-health status."
   ],
   "id": "19f35679be32522"
  },
  {
   "metadata": {
    "collapsed": true,
    "ExecuteTime": {
     "end_time": "2025-10-30T23:47:29.235766Z",
     "start_time": "2025-10-30T23:47:28.680829Z"
    }
   },
   "cell_type": "code",
   "outputs": [],
   "execution_count": 63,
   "source": [
    "import pandas as pd\n",
    "import matplotlib.pyplot as plt"
   ],
   "id": "9c7c11d2e2af97a7"
  },
  {
   "metadata": {
    "ExecuteTime": {
     "end_time": "2025-10-30T23:47:30.075854Z",
     "start_time": "2025-10-30T23:47:29.918244Z"
    }
   },
   "cell_type": "code",
   "outputs": [
    {
     "data": {
      "text/plain": [
       "             name  MDVP:Fo(Hz)  MDVP:Fhi(Hz)  MDVP:Flo(Hz)  MDVP:Jitter(%)  \\\n",
       "0  phon_R01_S01_1      119.992       157.302        74.997         0.00784   \n",
       "1  phon_R01_S01_2      122.400       148.650       113.819         0.00968   \n",
       "2  phon_R01_S01_3      116.682       131.111       111.555         0.01050   \n",
       "3  phon_R01_S01_4      116.676       137.871       111.366         0.00997   \n",
       "4  phon_R01_S01_5      116.014       141.781       110.655         0.01284   \n",
       "\n",
       "   MDVP:Jitter(Abs)  MDVP:RAP  MDVP:PPQ  Jitter:DDP  MDVP:Shimmer  ...  \\\n",
       "0           0.00007   0.00370   0.00554     0.01109       0.04374  ...   \n",
       "1           0.00008   0.00465   0.00696     0.01394       0.06134  ...   \n",
       "2           0.00009   0.00544   0.00781     0.01633       0.05233  ...   \n",
       "3           0.00009   0.00502   0.00698     0.01505       0.05492  ...   \n",
       "4           0.00011   0.00655   0.00908     0.01966       0.06425  ...   \n",
       "\n",
       "   Shimmer:DDA      NHR     HNR  status      RPDE       DFA   spread1  \\\n",
       "0      0.06545  0.02211  21.033       1  0.414783  0.815285 -4.813031   \n",
       "1      0.09403  0.01929  19.085       1  0.458359  0.819521 -4.075192   \n",
       "2      0.08270  0.01309  20.651       1  0.429895  0.825288 -4.443179   \n",
       "3      0.08771  0.01353  20.644       1  0.434969  0.819235 -4.117501   \n",
       "4      0.10470  0.01767  19.649       1  0.417356  0.823484 -3.747787   \n",
       "\n",
       "    spread2        D2       PPE  \n",
       "0  0.266482  2.301442  0.284654  \n",
       "1  0.335590  2.486855  0.368674  \n",
       "2  0.311173  2.342259  0.332634  \n",
       "3  0.334147  2.405554  0.368975  \n",
       "4  0.234513  2.332180  0.410335  \n",
       "\n",
       "[5 rows x 24 columns]"
      ],
      "text/html": [
       "<div>\n",
       "<style scoped>\n",
       "    .dataframe tbody tr th:only-of-type {\n",
       "        vertical-align: middle;\n",
       "    }\n",
       "\n",
       "    .dataframe tbody tr th {\n",
       "        vertical-align: top;\n",
       "    }\n",
       "\n",
       "    .dataframe thead th {\n",
       "        text-align: right;\n",
       "    }\n",
       "</style>\n",
       "<table border=\"1\" class=\"dataframe\">\n",
       "  <thead>\n",
       "    <tr style=\"text-align: right;\">\n",
       "      <th></th>\n",
       "      <th>name</th>\n",
       "      <th>MDVP:Fo(Hz)</th>\n",
       "      <th>MDVP:Fhi(Hz)</th>\n",
       "      <th>MDVP:Flo(Hz)</th>\n",
       "      <th>MDVP:Jitter(%)</th>\n",
       "      <th>MDVP:Jitter(Abs)</th>\n",
       "      <th>MDVP:RAP</th>\n",
       "      <th>MDVP:PPQ</th>\n",
       "      <th>Jitter:DDP</th>\n",
       "      <th>MDVP:Shimmer</th>\n",
       "      <th>...</th>\n",
       "      <th>Shimmer:DDA</th>\n",
       "      <th>NHR</th>\n",
       "      <th>HNR</th>\n",
       "      <th>status</th>\n",
       "      <th>RPDE</th>\n",
       "      <th>DFA</th>\n",
       "      <th>spread1</th>\n",
       "      <th>spread2</th>\n",
       "      <th>D2</th>\n",
       "      <th>PPE</th>\n",
       "    </tr>\n",
       "  </thead>\n",
       "  <tbody>\n",
       "    <tr>\n",
       "      <th>0</th>\n",
       "      <td>phon_R01_S01_1</td>\n",
       "      <td>119.992</td>\n",
       "      <td>157.302</td>\n",
       "      <td>74.997</td>\n",
       "      <td>0.00784</td>\n",
       "      <td>0.00007</td>\n",
       "      <td>0.00370</td>\n",
       "      <td>0.00554</td>\n",
       "      <td>0.01109</td>\n",
       "      <td>0.04374</td>\n",
       "      <td>...</td>\n",
       "      <td>0.06545</td>\n",
       "      <td>0.02211</td>\n",
       "      <td>21.033</td>\n",
       "      <td>1</td>\n",
       "      <td>0.414783</td>\n",
       "      <td>0.815285</td>\n",
       "      <td>-4.813031</td>\n",
       "      <td>0.266482</td>\n",
       "      <td>2.301442</td>\n",
       "      <td>0.284654</td>\n",
       "    </tr>\n",
       "    <tr>\n",
       "      <th>1</th>\n",
       "      <td>phon_R01_S01_2</td>\n",
       "      <td>122.400</td>\n",
       "      <td>148.650</td>\n",
       "      <td>113.819</td>\n",
       "      <td>0.00968</td>\n",
       "      <td>0.00008</td>\n",
       "      <td>0.00465</td>\n",
       "      <td>0.00696</td>\n",
       "      <td>0.01394</td>\n",
       "      <td>0.06134</td>\n",
       "      <td>...</td>\n",
       "      <td>0.09403</td>\n",
       "      <td>0.01929</td>\n",
       "      <td>19.085</td>\n",
       "      <td>1</td>\n",
       "      <td>0.458359</td>\n",
       "      <td>0.819521</td>\n",
       "      <td>-4.075192</td>\n",
       "      <td>0.335590</td>\n",
       "      <td>2.486855</td>\n",
       "      <td>0.368674</td>\n",
       "    </tr>\n",
       "    <tr>\n",
       "      <th>2</th>\n",
       "      <td>phon_R01_S01_3</td>\n",
       "      <td>116.682</td>\n",
       "      <td>131.111</td>\n",
       "      <td>111.555</td>\n",
       "      <td>0.01050</td>\n",
       "      <td>0.00009</td>\n",
       "      <td>0.00544</td>\n",
       "      <td>0.00781</td>\n",
       "      <td>0.01633</td>\n",
       "      <td>0.05233</td>\n",
       "      <td>...</td>\n",
       "      <td>0.08270</td>\n",
       "      <td>0.01309</td>\n",
       "      <td>20.651</td>\n",
       "      <td>1</td>\n",
       "      <td>0.429895</td>\n",
       "      <td>0.825288</td>\n",
       "      <td>-4.443179</td>\n",
       "      <td>0.311173</td>\n",
       "      <td>2.342259</td>\n",
       "      <td>0.332634</td>\n",
       "    </tr>\n",
       "    <tr>\n",
       "      <th>3</th>\n",
       "      <td>phon_R01_S01_4</td>\n",
       "      <td>116.676</td>\n",
       "      <td>137.871</td>\n",
       "      <td>111.366</td>\n",
       "      <td>0.00997</td>\n",
       "      <td>0.00009</td>\n",
       "      <td>0.00502</td>\n",
       "      <td>0.00698</td>\n",
       "      <td>0.01505</td>\n",
       "      <td>0.05492</td>\n",
       "      <td>...</td>\n",
       "      <td>0.08771</td>\n",
       "      <td>0.01353</td>\n",
       "      <td>20.644</td>\n",
       "      <td>1</td>\n",
       "      <td>0.434969</td>\n",
       "      <td>0.819235</td>\n",
       "      <td>-4.117501</td>\n",
       "      <td>0.334147</td>\n",
       "      <td>2.405554</td>\n",
       "      <td>0.368975</td>\n",
       "    </tr>\n",
       "    <tr>\n",
       "      <th>4</th>\n",
       "      <td>phon_R01_S01_5</td>\n",
       "      <td>116.014</td>\n",
       "      <td>141.781</td>\n",
       "      <td>110.655</td>\n",
       "      <td>0.01284</td>\n",
       "      <td>0.00011</td>\n",
       "      <td>0.00655</td>\n",
       "      <td>0.00908</td>\n",
       "      <td>0.01966</td>\n",
       "      <td>0.06425</td>\n",
       "      <td>...</td>\n",
       "      <td>0.10470</td>\n",
       "      <td>0.01767</td>\n",
       "      <td>19.649</td>\n",
       "      <td>1</td>\n",
       "      <td>0.417356</td>\n",
       "      <td>0.823484</td>\n",
       "      <td>-3.747787</td>\n",
       "      <td>0.234513</td>\n",
       "      <td>2.332180</td>\n",
       "      <td>0.410335</td>\n",
       "    </tr>\n",
       "  </tbody>\n",
       "</table>\n",
       "<p>5 rows × 24 columns</p>\n",
       "</div>"
      ]
     },
     "execution_count": 64,
     "metadata": {},
     "output_type": "execute_result"
    }
   ],
   "execution_count": 64,
   "source": [
    "# Read data and display\n",
    "df = pd.read_csv('https://raw.githubusercontent.com/binbenliu/Teaching/main/data/parkinsons.data')\n",
    "df.head()"
   ],
   "id": "6c850a597085da53"
  },
  {
   "metadata": {
    "ExecuteTime": {
     "end_time": "2025-10-30T23:47:33.628415Z",
     "start_time": "2025-10-30T23:47:33.594128Z"
    }
   },
   "cell_type": "code",
   "source": [
    "# Summary\n",
    "df.describe()"
   ],
   "id": "3833bf2c3a164706",
   "outputs": [
    {
     "data": {
      "text/plain": [
       "       MDVP:Fo(Hz)  MDVP:Fhi(Hz)  MDVP:Flo(Hz)  MDVP:Jitter(%)  \\\n",
       "count   195.000000    195.000000    195.000000      195.000000   \n",
       "mean    154.228641    197.104918    116.324631        0.006220   \n",
       "std      41.390065     91.491548     43.521413        0.004848   \n",
       "min      88.333000    102.145000     65.476000        0.001680   \n",
       "25%     117.572000    134.862500     84.291000        0.003460   \n",
       "50%     148.790000    175.829000    104.315000        0.004940   \n",
       "75%     182.769000    224.205500    140.018500        0.007365   \n",
       "max     260.105000    592.030000    239.170000        0.033160   \n",
       "\n",
       "       MDVP:Jitter(Abs)    MDVP:RAP    MDVP:PPQ  Jitter:DDP  MDVP:Shimmer  \\\n",
       "count        195.000000  195.000000  195.000000  195.000000    195.000000   \n",
       "mean           0.000044    0.003306    0.003446    0.009920      0.029709   \n",
       "std            0.000035    0.002968    0.002759    0.008903      0.018857   \n",
       "min            0.000007    0.000680    0.000920    0.002040      0.009540   \n",
       "25%            0.000020    0.001660    0.001860    0.004985      0.016505   \n",
       "50%            0.000030    0.002500    0.002690    0.007490      0.022970   \n",
       "75%            0.000060    0.003835    0.003955    0.011505      0.037885   \n",
       "max            0.000260    0.021440    0.019580    0.064330      0.119080   \n",
       "\n",
       "       MDVP:Shimmer(dB)  ...  Shimmer:DDA         NHR         HNR      status  \\\n",
       "count        195.000000  ...   195.000000  195.000000  195.000000  195.000000   \n",
       "mean           0.282251  ...     0.046993    0.024847   21.885974    0.753846   \n",
       "std            0.194877  ...     0.030459    0.040418    4.425764    0.431878   \n",
       "min            0.085000  ...     0.013640    0.000650    8.441000    0.000000   \n",
       "25%            0.148500  ...     0.024735    0.005925   19.198000    1.000000   \n",
       "50%            0.221000  ...     0.038360    0.011660   22.085000    1.000000   \n",
       "75%            0.350000  ...     0.060795    0.025640   25.075500    1.000000   \n",
       "max            1.302000  ...     0.169420    0.314820   33.047000    1.000000   \n",
       "\n",
       "             RPDE         DFA     spread1     spread2          D2         PPE  \n",
       "count  195.000000  195.000000  195.000000  195.000000  195.000000  195.000000  \n",
       "mean     0.498536    0.718099   -5.684397    0.226510    2.381826    0.206552  \n",
       "std      0.103942    0.055336    1.090208    0.083406    0.382799    0.090119  \n",
       "min      0.256570    0.574282   -7.964984    0.006274    1.423287    0.044539  \n",
       "25%      0.421306    0.674758   -6.450096    0.174351    2.099125    0.137451  \n",
       "50%      0.495954    0.722254   -5.720868    0.218885    2.361532    0.194052  \n",
       "75%      0.587562    0.761881   -5.046192    0.279234    2.636456    0.252980  \n",
       "max      0.685151    0.825288   -2.434031    0.450493    3.671155    0.527367  \n",
       "\n",
       "[8 rows x 23 columns]"
      ],
      "text/html": [
       "<div>\n",
       "<style scoped>\n",
       "    .dataframe tbody tr th:only-of-type {\n",
       "        vertical-align: middle;\n",
       "    }\n",
       "\n",
       "    .dataframe tbody tr th {\n",
       "        vertical-align: top;\n",
       "    }\n",
       "\n",
       "    .dataframe thead th {\n",
       "        text-align: right;\n",
       "    }\n",
       "</style>\n",
       "<table border=\"1\" class=\"dataframe\">\n",
       "  <thead>\n",
       "    <tr style=\"text-align: right;\">\n",
       "      <th></th>\n",
       "      <th>MDVP:Fo(Hz)</th>\n",
       "      <th>MDVP:Fhi(Hz)</th>\n",
       "      <th>MDVP:Flo(Hz)</th>\n",
       "      <th>MDVP:Jitter(%)</th>\n",
       "      <th>MDVP:Jitter(Abs)</th>\n",
       "      <th>MDVP:RAP</th>\n",
       "      <th>MDVP:PPQ</th>\n",
       "      <th>Jitter:DDP</th>\n",
       "      <th>MDVP:Shimmer</th>\n",
       "      <th>MDVP:Shimmer(dB)</th>\n",
       "      <th>...</th>\n",
       "      <th>Shimmer:DDA</th>\n",
       "      <th>NHR</th>\n",
       "      <th>HNR</th>\n",
       "      <th>status</th>\n",
       "      <th>RPDE</th>\n",
       "      <th>DFA</th>\n",
       "      <th>spread1</th>\n",
       "      <th>spread2</th>\n",
       "      <th>D2</th>\n",
       "      <th>PPE</th>\n",
       "    </tr>\n",
       "  </thead>\n",
       "  <tbody>\n",
       "    <tr>\n",
       "      <th>count</th>\n",
       "      <td>195.000000</td>\n",
       "      <td>195.000000</td>\n",
       "      <td>195.000000</td>\n",
       "      <td>195.000000</td>\n",
       "      <td>195.000000</td>\n",
       "      <td>195.000000</td>\n",
       "      <td>195.000000</td>\n",
       "      <td>195.000000</td>\n",
       "      <td>195.000000</td>\n",
       "      <td>195.000000</td>\n",
       "      <td>...</td>\n",
       "      <td>195.000000</td>\n",
       "      <td>195.000000</td>\n",
       "      <td>195.000000</td>\n",
       "      <td>195.000000</td>\n",
       "      <td>195.000000</td>\n",
       "      <td>195.000000</td>\n",
       "      <td>195.000000</td>\n",
       "      <td>195.000000</td>\n",
       "      <td>195.000000</td>\n",
       "      <td>195.000000</td>\n",
       "    </tr>\n",
       "    <tr>\n",
       "      <th>mean</th>\n",
       "      <td>154.228641</td>\n",
       "      <td>197.104918</td>\n",
       "      <td>116.324631</td>\n",
       "      <td>0.006220</td>\n",
       "      <td>0.000044</td>\n",
       "      <td>0.003306</td>\n",
       "      <td>0.003446</td>\n",
       "      <td>0.009920</td>\n",
       "      <td>0.029709</td>\n",
       "      <td>0.282251</td>\n",
       "      <td>...</td>\n",
       "      <td>0.046993</td>\n",
       "      <td>0.024847</td>\n",
       "      <td>21.885974</td>\n",
       "      <td>0.753846</td>\n",
       "      <td>0.498536</td>\n",
       "      <td>0.718099</td>\n",
       "      <td>-5.684397</td>\n",
       "      <td>0.226510</td>\n",
       "      <td>2.381826</td>\n",
       "      <td>0.206552</td>\n",
       "    </tr>\n",
       "    <tr>\n",
       "      <th>std</th>\n",
       "      <td>41.390065</td>\n",
       "      <td>91.491548</td>\n",
       "      <td>43.521413</td>\n",
       "      <td>0.004848</td>\n",
       "      <td>0.000035</td>\n",
       "      <td>0.002968</td>\n",
       "      <td>0.002759</td>\n",
       "      <td>0.008903</td>\n",
       "      <td>0.018857</td>\n",
       "      <td>0.194877</td>\n",
       "      <td>...</td>\n",
       "      <td>0.030459</td>\n",
       "      <td>0.040418</td>\n",
       "      <td>4.425764</td>\n",
       "      <td>0.431878</td>\n",
       "      <td>0.103942</td>\n",
       "      <td>0.055336</td>\n",
       "      <td>1.090208</td>\n",
       "      <td>0.083406</td>\n",
       "      <td>0.382799</td>\n",
       "      <td>0.090119</td>\n",
       "    </tr>\n",
       "    <tr>\n",
       "      <th>min</th>\n",
       "      <td>88.333000</td>\n",
       "      <td>102.145000</td>\n",
       "      <td>65.476000</td>\n",
       "      <td>0.001680</td>\n",
       "      <td>0.000007</td>\n",
       "      <td>0.000680</td>\n",
       "      <td>0.000920</td>\n",
       "      <td>0.002040</td>\n",
       "      <td>0.009540</td>\n",
       "      <td>0.085000</td>\n",
       "      <td>...</td>\n",
       "      <td>0.013640</td>\n",
       "      <td>0.000650</td>\n",
       "      <td>8.441000</td>\n",
       "      <td>0.000000</td>\n",
       "      <td>0.256570</td>\n",
       "      <td>0.574282</td>\n",
       "      <td>-7.964984</td>\n",
       "      <td>0.006274</td>\n",
       "      <td>1.423287</td>\n",
       "      <td>0.044539</td>\n",
       "    </tr>\n",
       "    <tr>\n",
       "      <th>25%</th>\n",
       "      <td>117.572000</td>\n",
       "      <td>134.862500</td>\n",
       "      <td>84.291000</td>\n",
       "      <td>0.003460</td>\n",
       "      <td>0.000020</td>\n",
       "      <td>0.001660</td>\n",
       "      <td>0.001860</td>\n",
       "      <td>0.004985</td>\n",
       "      <td>0.016505</td>\n",
       "      <td>0.148500</td>\n",
       "      <td>...</td>\n",
       "      <td>0.024735</td>\n",
       "      <td>0.005925</td>\n",
       "      <td>19.198000</td>\n",
       "      <td>1.000000</td>\n",
       "      <td>0.421306</td>\n",
       "      <td>0.674758</td>\n",
       "      <td>-6.450096</td>\n",
       "      <td>0.174351</td>\n",
       "      <td>2.099125</td>\n",
       "      <td>0.137451</td>\n",
       "    </tr>\n",
       "    <tr>\n",
       "      <th>50%</th>\n",
       "      <td>148.790000</td>\n",
       "      <td>175.829000</td>\n",
       "      <td>104.315000</td>\n",
       "      <td>0.004940</td>\n",
       "      <td>0.000030</td>\n",
       "      <td>0.002500</td>\n",
       "      <td>0.002690</td>\n",
       "      <td>0.007490</td>\n",
       "      <td>0.022970</td>\n",
       "      <td>0.221000</td>\n",
       "      <td>...</td>\n",
       "      <td>0.038360</td>\n",
       "      <td>0.011660</td>\n",
       "      <td>22.085000</td>\n",
       "      <td>1.000000</td>\n",
       "      <td>0.495954</td>\n",
       "      <td>0.722254</td>\n",
       "      <td>-5.720868</td>\n",
       "      <td>0.218885</td>\n",
       "      <td>2.361532</td>\n",
       "      <td>0.194052</td>\n",
       "    </tr>\n",
       "    <tr>\n",
       "      <th>75%</th>\n",
       "      <td>182.769000</td>\n",
       "      <td>224.205500</td>\n",
       "      <td>140.018500</td>\n",
       "      <td>0.007365</td>\n",
       "      <td>0.000060</td>\n",
       "      <td>0.003835</td>\n",
       "      <td>0.003955</td>\n",
       "      <td>0.011505</td>\n",
       "      <td>0.037885</td>\n",
       "      <td>0.350000</td>\n",
       "      <td>...</td>\n",
       "      <td>0.060795</td>\n",
       "      <td>0.025640</td>\n",
       "      <td>25.075500</td>\n",
       "      <td>1.000000</td>\n",
       "      <td>0.587562</td>\n",
       "      <td>0.761881</td>\n",
       "      <td>-5.046192</td>\n",
       "      <td>0.279234</td>\n",
       "      <td>2.636456</td>\n",
       "      <td>0.252980</td>\n",
       "    </tr>\n",
       "    <tr>\n",
       "      <th>max</th>\n",
       "      <td>260.105000</td>\n",
       "      <td>592.030000</td>\n",
       "      <td>239.170000</td>\n",
       "      <td>0.033160</td>\n",
       "      <td>0.000260</td>\n",
       "      <td>0.021440</td>\n",
       "      <td>0.019580</td>\n",
       "      <td>0.064330</td>\n",
       "      <td>0.119080</td>\n",
       "      <td>1.302000</td>\n",
       "      <td>...</td>\n",
       "      <td>0.169420</td>\n",
       "      <td>0.314820</td>\n",
       "      <td>33.047000</td>\n",
       "      <td>1.000000</td>\n",
       "      <td>0.685151</td>\n",
       "      <td>0.825288</td>\n",
       "      <td>-2.434031</td>\n",
       "      <td>0.450493</td>\n",
       "      <td>3.671155</td>\n",
       "      <td>0.527367</td>\n",
       "    </tr>\n",
       "  </tbody>\n",
       "</table>\n",
       "<p>8 rows × 23 columns</p>\n",
       "</div>"
      ]
     },
     "execution_count": 66,
     "metadata": {},
     "output_type": "execute_result"
    }
   ],
   "execution_count": 66
  },
  {
   "metadata": {
    "ExecuteTime": {
     "end_time": "2025-10-30T23:47:37.197757Z",
     "start_time": "2025-10-30T23:47:37.122497Z"
    }
   },
   "cell_type": "code",
   "source": [
    "# PPE\n",
    "df['PPE'].hist()\n",
    "plt.title('Distribution of PPE')\n",
    "plt.xlabel(\"PPE\")\n",
    "plt.ylabel('Count')\n",
    "plt.show()"
   ],
   "id": "4d5793cd29386706",
   "outputs": [
    {
     "data": {
      "text/plain": [
       "<Figure size 640x480 with 1 Axes>"
      ],
      "image/png": "[encoded data removed]"
     },
     "metadata": {},
     "output_type": "display_data",
     "jetTransient": {
      "display_id": null
     }
    }
   ],
   "execution_count": 68
  },
  {
   "metadata": {
    "ExecuteTime": {
     "end_time": "2025-10-30T23:47:35.403735Z",
     "start_time": "2025-10-30T23:47:35.317677Z"
    }
   },
   "cell_type": "code",
   "source": [
    "# DFA\n",
    "df['DFA'].hist()\n",
    "plt.title('Distribution of DFA')\n",
    "plt.xlabel(\"DFA\")\n",
    "plt.ylabel('Count')\n",
    "plt.show()"
   ],
   "id": "a257d5e0b2df5c2e",
   "outputs": [
    {
     "data": {
      "text/plain": [
       "<Figure size 640x480 with 1 Axes>"
      ],
      "image/png": "[encoded data removed]"
     },
     "metadata": {},
     "output_type": "display_data",
     "jetTransient": {
      "display_id": null
     }
    }
   ],
   "execution_count": 67
  },
  {
   "metadata": {
    "ExecuteTime": {
     "end_time": "2025-10-30T23:47:38.980931Z",
     "start_time": "2025-10-30T23:47:38.893723Z"
    }
   },
   "cell_type": "code",
   "source": [
    "# MDVP:Fo(Hz)\n",
    "df['MDVP:Fo(Hz)'].hist()\n",
    "plt.title('Distribution of MDVP:Fo(Hz)')\n",
    "plt.xlabel(\"MDVP:Fo(Hz)\")\n",
    "plt.ylabel('Count')\n",
    "plt.show()"
   ],
   "id": "5b5d3f35422be3e1",
   "outputs": [
    {
     "data": {
      "text/plain": [
       "<Figure size 640x480 with 1 Axes>"
      ],
      "image/png": "[encoded data removed]"
     },
     "metadata": {},
     "output_type": "display_data",
     "jetTransient": {
      "display_id": null
     }
    }
   ],
   "execution_count": 69
  },
  {
   "metadata": {
    "ExecuteTime": {
     "end_time": "2025-10-30T23:47:40.481088Z",
     "start_time": "2025-10-30T23:47:40.312890Z"
    }
   },
   "cell_type": "code",
   "source": [
    "# PPE Status 1\n",
    "df[df['status'] == 1]['PPE'].hist()\n",
    "plt.title('Distribution of PPE Status 1')\n",
    "plt.xlabel(\"PPE\")\n",
    "plt.ylabel('Count')\n",
    "plt.show()\n",
    "\n",
    "# PPE Status 0\n",
    "df[df['status'] == 0]['PPE'].hist()\n",
    "plt.title('Distribution of PPE Status 0')\n",
    "plt.xlabel(\"PPE\")\n",
    "plt.ylabel('Count')\n",
    "plt.show()"
   ],
   "id": "e65e9c8995e1c0d",
   "outputs": [
    {
     "data": {
      "text/plain": [
       "<Figure size 640x480 with 1 Axes>"
      ],
      "image/png": "[encoded data removed]"
     },
     "metadata": {},
     "output_type": "display_data",
     "jetTransient": {
      "display_id": null
     }
    },
    {
     "data": {
      "text/plain": [
       "<Figure size 640x480 with 1 Axes>"
      ],
      "image/png": "[encoded data removed]"
     },
     "metadata": {},
     "output_type": "display_data",
     "jetTransient": {
      "display_id": null
     }
    }
   ],
   "execution_count": 70
  },
  {
   "metadata": {
    "ExecuteTime": {
     "end_time": "2025-10-30T23:47:42.711737Z",
     "start_time": "2025-10-30T23:47:42.537431Z"
    }
   },
   "cell_type": "code",
   "source": [
    "# DFA Status 1\n",
    "df[df['status'] == 1]['DFA'].hist()\n",
    "plt.title('Distribution of DFA Status 1')\n",
    "plt.xlabel(\"DFA\")\n",
    "plt.ylabel('Count')\n",
    "plt.show()\n",
    "\n",
    "# DFA Status 0\n",
    "df[df['status'] == 0]['DFA'].hist()\n",
    "plt.title('Distribution of DFA Status 0')\n",
    "plt.xlabel(\"DFA\")\n",
    "plt.ylabel('Count')\n",
    "plt.show()"
   ],
   "id": "8b17762da08ef3e0",
   "outputs": [
    {
     "data": {
      "text/plain": [
       "<Figure size 640x480 with 1 Axes>"
      ],
      "image/png": "[encoded data removed]"
     },
     "metadata": {},
     "output_type": "display_data",
     "jetTransient": {
      "display_id": null
     }
    },
    {
     "data": {
      "text/plain": [
       "<Figure size 640x480 with 1 Axes>"
      ],
      "image/png": "[encoded data removed]"
     },
     "metadata": {},
     "output_type": "display_data",
     "jetTransient": {
      "display_id": null
     }
    }
   ],
   "execution_count": 71
  },
  {
   "metadata": {
    "ExecuteTime": {
     "end_time": "2025-10-30T23:47:45.207573Z",
     "start_time": "2025-10-30T23:47:45.025404Z"
    }
   },
   "cell_type": "code",
   "source": [
    "# MDVP:Fo(Hz) Status 1\n",
    "df[df['status'] == 1]['MDVP:Fo(Hz)'].hist()\n",
    "plt.title('Distribution of MDVP Fo(Hz) Status 1')\n",
    "plt.xlabel(\"MDVP:Fo(Hz)\")\n",
    "plt.ylabel('Count')\n",
    "plt.show()\n",
    "\n",
    "# MDVP:Fo(Hz) Status 0\n",
    "df[df['status'] == 0]['MDVP:Fo(Hz)'].hist()\n",
    "plt.title('Distribution of MDVP Fo(Hz) Status 0')\n",
    "plt.xlabel(\"MDVP:Fo(Hz)\")\n",
    "plt.ylabel('Count')\n",
    "plt.show()"
   ],
   "id": "2357905caab9f530",
   "outputs": [
    {
     "data": {
      "text/plain": [
       "<Figure size 640x480 with 1 Axes>"
      ],
      "image/png": "[encoded data removed]"
     },
     "metadata": {},
     "output_type": "display_data",
     "jetTransient": {
      "display_id": null
     }
    },
    {
     "data": {
      "text/plain": [
       "<Figure size 640x480 with 1 Axes>"
      ],
      "image/png": "[encoded data removed]"
     },
     "metadata": {},
     "output_type": "display_data",
     "jetTransient": {
      "display_id": null
     }
    }
   ],
   "execution_count": 72
  },
  {
   "metadata": {},
   "cell_type": "markdown",
   "source": [
    "Question 2:\n",
    "1) If you need to work with text data, describe important steps you would apply to process\n",
    "them.\n",
    "2) You are given a sample of IMDB review data at\n",
    "https://raw.githubusercontent.com/binbenliu/BUDA515/main/imdb_samble.csv\n",
    " Write Python code in jupyter notebook to implement the steps in question 2-1)"
   ],
   "id": "ae3d26f4f73cb322"
  },
  {
   "metadata": {},
   "cell_type": "code",
   "outputs": [],
   "execution_count": null,
   "source": "# The steps I would apply are: Data Loading and Exploration, Text Cleaning, Tokenization, Remove Stop Words, Lemmatization, and finally Vectorization.",
   "id": "ba8457efe7eae7a1"
  },
  {
   "metadata": {
    "ExecuteTime": {
     "end_time": "2025-10-30T23:47:48.141255Z",
     "start_time": "2025-10-30T23:47:48.138306Z"
    }
   },
   "cell_type": "code",
   "source": [
    "import pandas as pd\n",
    "import re\n",
    "from nltk.corpus import stopwords\n",
    "from nltk.tokenize import word_tokenize\n",
    "from nltk.stem import WordNetLemmatizer"
   ],
   "id": "18ae263f20988e85",
   "outputs": [],
   "execution_count": 73
  },
  {
   "metadata": {
    "ExecuteTime": {
     "end_time": "2025-10-30T23:47:49.916193Z",
     "start_time": "2025-10-30T23:47:49.820617Z"
    }
   },
   "cell_type": "code",
   "source": [
    "# Load Data\n",
    "df2 = pd.read_csv('https://raw.githubusercontent.com/binbenliu/BUDA515/main/imdb_samble.csv')\n",
    "df2.head()"
   ],
   "id": "822825160cab171f",
   "outputs": [
    {
     "data": {
      "text/plain": [
       "                                              review sentiment\n",
       "0  One of the other reviewers has mentioned that ...  positive\n",
       "1  A wonderful little production. <br /><br />The...  positive\n",
       "2  I thought this was a wonderful way to spend ti...  positive\n",
       "3  Basically there's a family where a little boy ...  negative\n",
       "4  Petter Mattei's \"Love in the Time of Money\" is...  positive"
      ],
      "text/html": [
       "<div>\n",
       "<style scoped>\n",
       "    .dataframe tbody tr th:only-of-type {\n",
       "        vertical-align: middle;\n",
       "    }\n",
       "\n",
       "    .dataframe tbody tr th {\n",
       "        vertical-align: top;\n",
       "    }\n",
       "\n",
       "    .dataframe thead th {\n",
       "        text-align: right;\n",
       "    }\n",
       "</style>\n",
       "<table border=\"1\" class=\"dataframe\">\n",
       "  <thead>\n",
       "    <tr style=\"text-align: right;\">\n",
       "      <th></th>\n",
       "      <th>review</th>\n",
       "      <th>sentiment</th>\n",
       "    </tr>\n",
       "  </thead>\n",
       "  <tbody>\n",
       "    <tr>\n",
       "      <th>0</th>\n",
       "      <td>One of the other reviewers has mentioned that ...</td>\n",
       "      <td>positive</td>\n",
       "    </tr>\n",
       "    <tr>\n",
       "      <th>1</th>\n",
       "      <td>A wonderful little production. &lt;br /&gt;&lt;br /&gt;The...</td>\n",
       "      <td>positive</td>\n",
       "    </tr>\n",
       "    <tr>\n",
       "      <th>2</th>\n",
       "      <td>I thought this was a wonderful way to spend ti...</td>\n",
       "      <td>positive</td>\n",
       "    </tr>\n",
       "    <tr>\n",
       "      <th>3</th>\n",
       "      <td>Basically there's a family where a little boy ...</td>\n",
       "      <td>negative</td>\n",
       "    </tr>\n",
       "    <tr>\n",
       "      <th>4</th>\n",
       "      <td>Petter Mattei's \"Love in the Time of Money\" is...</td>\n",
       "      <td>positive</td>\n",
       "    </tr>\n",
       "  </tbody>\n",
       "</table>\n",
       "</div>"
      ]
     },
     "execution_count": 74,
     "metadata": {},
     "output_type": "execute_result"
    }
   ],
   "execution_count": 74
  },
  {
   "metadata": {
    "ExecuteTime": {
     "end_time": "2025-10-31T00:12:57.732779Z",
     "start_time": "2025-10-31T00:12:57.719162Z"
    }
   },
   "cell_type": "code",
   "source": [
    "# Processing Text\n",
    "def process_text(text):\n",
    "    # Lowercase and remove HTML\n",
    "    text = text.lower()\n",
    "    text = re.sub(r'<.*?>', '', text)\n",
    "    # Remove speical characters\n",
    "    text = re.sub(r'[^a-z\\s]', '', text)\n",
    "    # Tokenize\n",
    "    tokens = word_tokenize(text)\n",
    "    # Remove stop words\n",
    "    stop_words = set(stopwords.words('english'))\n",
    "    tokens = [w for w in tokens if w not in stop_words]\n",
    "    # Lemmatize\n",
    "    lemmatizer = WordNetLemmatizer()\n",
    "    tokens = [lemmatizer.lemmatize(w) for w in tokens]\n",
    "    return ' '.join(tokens)\n",
    "#Apply to all reviews\n",
    "df2['processed'] = df2['review'].apply(process_text)\n",
    "# Show results\n",
    "print('Original')\n",
    "print(df2['review'][0][:300])\n",
    "print('\\nProcessed')\n",
    "print(df2['processed'][0][:300])"
   ],
   "id": "65a06a289fbc64da",
   "outputs": [
    {
     "name": "stdout",
     "output_type": "stream",
     "text": [
      "Original\n",
      "One of the other reviewers has mentioned that after watching just 1 Oz episode you'll be hooked. They are right, as this is exactly what happened with me.<br /><br />The first thing that struck me about Oz was its brutality and unflinching scenes of violence, which set in right from the word GO. Tru\n",
      "\n",
      "Processed\n",
      "one reviewer mentioned watching oz episode youll hooked right exactly happened methe first thing struck oz brutality unflinching scene violence set right word go trust show faint hearted timid show pull punch regard drug sex violence hardcore classic use wordit called oz nickname given oswald maximu\n"
     ]
    }
   ],
   "execution_count": 103
  },
  {
   "metadata": {
    "ExecuteTime": {
     "end_time": "2025-10-30T23:48:13.347533Z",
     "start_time": "2025-10-30T23:48:13.342719Z"
    }
   },
   "cell_type": "code",
   "source": [
    "# Convert to Numbers\n",
    "from sklearn.feature_extraction.text import TfidfVectorizer\n",
    "\n",
    "vectorizer = TfidfVectorizer(max_features=100)\n",
    "X = vectorizer.fit_transform(df2['processed'])\n",
    "\n",
    "print(f\"Converted {len(df2)} reviews into {X.shape[1]} numbers\")"
   ],
   "id": "2c588a738cbf3101",
   "outputs": [
    {
     "name": "stdout",
     "output_type": "stream",
     "text": [
      "Converted 10 reviews into 100 numbers\n"
     ]
    }
   ],
   "execution_count": 86
  },
  {
   "metadata": {},
   "cell_type": "markdown",
   "source": [
    "Question 3:\n",
    "\n",
    "1) Why sometimes we need to work JSON or XML data in data analytics?\n",
    "2) https://www.exchangerate-api.com/ is an API through which you can get currency\n",
    "exchange rate. Let’s assume you want to get the exchange rate of USD to other currencies.\n",
    "You can get the updated currency exchange rate information through link\n",
    "https://api.exchangerate-api.com/v4/latest/USD You can save the data as\n",
    "exchangerate.json (We also provide you the json file so that you don’t need to\n",
    "download by yourself)\n",
    "\n",
    "Based on the given exchangerate.json file:\n",
    "- Load the json\n",
    "- Display the rates information.\n",
    "- Since the rates information is a dictionary, use pandas.DataFrame.from_dict\n",
    "function to create a DataFrame object from the rates dictionary, and display the\n",
    "DataFrame you created. Here is more details about pandas.DataFrame.from_dict\n",
    "function\n",
    "https://pandas.pydata.org/docs/reference/api/pandas.DataFrame.from_dict.html"
   ],
   "id": "68e8037882859918"
  },
  {
   "metadata": {
    "ExecuteTime": {
     "end_time": "2025-10-30T23:57:45.768526Z",
     "start_time": "2025-10-30T23:57:45.765595Z"
    }
   },
   "cell_type": "code",
   "source": [
    "import json\n",
    "# Open and read the JSON file, use with to auto close file\n",
    "with open('exchangerate.json', 'r') as file:\n",
    "    data = json.load(file)"
   ],
   "id": "9cc68a9ccd9bfd81",
   "outputs": [],
   "execution_count": 100
  },
  {
   "metadata": {
    "ExecuteTime": {
     "end_time": "2025-10-31T00:06:39.704095Z",
     "start_time": "2025-10-31T00:06:39.700237Z"
    }
   },
   "cell_type": "code",
   "source": [
    "# Rates\n",
    "rates = data['rates']\n",
    "print('Exchange Rates for USD:')\n",
    "print('-' * 30)\n",
    "for currency, rate in rates.items():\n",
    "    print(f\"1 USD = {rate} {currency}\")\n"
   ],
   "id": "d32a0a03e9534d1a",
   "outputs": [
    {
     "name": "stdout",
     "output_type": "stream",
     "text": [
      "Exchange Rates for USD:\n",
      "------------------------------\n",
      "1 USD = 1 USD\n",
      "1 USD = 3.67 AED\n",
      "1 USD = 66.61 AFN\n",
      "1 USD = 91.19 ALL\n",
      "1 USD = 387.08 AMD\n",
      "1 USD = 1.79 ANG\n",
      "1 USD = 915.56 AOA\n",
      "1 USD = 988.83 ARS\n",
      "1 USD = 1.52 AUD\n",
      "1 USD = 1.79 AWG\n",
      "1 USD = 1.7 AZN\n",
      "1 USD = 1.81 BAM\n",
      "1 USD = 2 BBD\n",
      "1 USD = 119.53 BDT\n",
      "1 USD = 1.81 BGN\n",
      "1 USD = 0.376 BHD\n",
      "1 USD = 2911.63 BIF\n",
      "1 USD = 1 BMD\n",
      "1 USD = 1.32 BND\n",
      "1 USD = 6.92 BOB\n",
      "1 USD = 5.71 BRL\n",
      "1 USD = 1 BSD\n",
      "1 USD = 84.1 BTN\n",
      "1 USD = 13.39 BWP\n",
      "1 USD = 3.29 BYN\n",
      "1 USD = 2 BZD\n",
      "1 USD = 1.39 CAD\n",
      "1 USD = 2839 CDF\n",
      "1 USD = 0.865 CHF\n",
      "1 USD = 948.73 CLP\n",
      "1 USD = 7.14 CNY\n",
      "1 USD = 4320.52 COP\n",
      "1 USD = 514.18 CRC\n",
      "1 USD = 24 CUP\n",
      "1 USD = 101.95 CVE\n",
      "1 USD = 23.44 CZK\n",
      "1 USD = 177.72 DJF\n",
      "1 USD = 6.9 DKK\n",
      "1 USD = 60.26 DOP\n",
      "1 USD = 133.36 DZD\n",
      "1 USD = 48.69 EGP\n",
      "1 USD = 15 ERN\n",
      "1 USD = 118.52 ETB\n",
      "1 USD = 0.925 EUR\n",
      "1 USD = 2.25 FJD\n",
      "1 USD = 0.771 FKP\n",
      "1 USD = 6.9 FOK\n",
      "1 USD = 0.771 GBP\n",
      "1 USD = 2.73 GEL\n",
      "1 USD = 0.771 GGP\n",
      "1 USD = 16.49 GHS\n",
      "1 USD = 0.771 GIP\n",
      "1 USD = 70.95 GMD\n",
      "1 USD = 8681.63 GNF\n",
      "1 USD = 7.73 GTQ\n",
      "1 USD = 209.08 GYD\n",
      "1 USD = 7.77 HKD\n",
      "1 USD = 25.22 HNL\n",
      "1 USD = 6.97 HRK\n",
      "1 USD = 131.74 HTG\n",
      "1 USD = 373.91 HUF\n",
      "1 USD = 15745.45 IDR\n",
      "1 USD = 3.73 ILS\n",
      "1 USD = 0.771 IMP\n",
      "1 USD = 84.1 INR\n",
      "1 USD = 1309.88 IQD\n",
      "1 USD = 42035.57 IRR\n",
      "1 USD = 137.79 ISK\n",
      "1 USD = 0.771 JEP\n",
      "1 USD = 158.32 JMD\n",
      "1 USD = 0.709 JOD\n",
      "1 USD = 153.13 JPY\n",
      "1 USD = 128.84 KES\n",
      "1 USD = 85.47 KGS\n",
      "1 USD = 4086.01 KHR\n",
      "1 USD = 1.52 KID\n",
      "1 USD = 454.86 KMF\n",
      "1 USD = 1383.17 KRW\n",
      "1 USD = 0.307 KWD\n",
      "1 USD = 0.833 KYD\n",
      "1 USD = 490.2 KZT\n",
      "1 USD = 21923.4 LAK\n",
      "1 USD = 89500 LBP\n",
      "1 USD = 293.39 LKR\n",
      "1 USD = 191.98 LRD\n",
      "1 USD = 17.7 LSL\n",
      "1 USD = 4.82 LYD\n",
      "1 USD = 9.86 MAD\n",
      "1 USD = 17.94 MDL\n",
      "1 USD = 4591.5 MGA\n",
      "1 USD = 56.81 MKD\n",
      "1 USD = 2098.86 MMK\n",
      "1 USD = 3449.13 MNT\n",
      "1 USD = 8 MOP\n",
      "1 USD = 39.96 MRU\n",
      "1 USD = 46.1 MUR\n",
      "1 USD = 15.44 MVR\n",
      "1 USD = 1742.46 MWK\n",
      "1 USD = 20.02 MXN\n",
      "1 USD = 4.36 MYR\n",
      "1 USD = 63.92 MZN\n",
      "1 USD = 17.7 NAD\n",
      "1 USD = 1635.3 NGN\n",
      "1 USD = 36.81 NIO\n",
      "1 USD = 10.99 NOK\n",
      "1 USD = 134.56 NPR\n",
      "1 USD = 1.67 NZD\n",
      "1 USD = 0.384 OMR\n",
      "1 USD = 1 PAB\n",
      "1 USD = 3.77 PEN\n",
      "1 USD = 3.96 PGK\n",
      "1 USD = 58.24 PHP\n",
      "1 USD = 277.75 PKR\n",
      "1 USD = 4.02 PLN\n",
      "1 USD = 8035.11 PYG\n",
      "1 USD = 3.64 QAR\n",
      "1 USD = 4.6 RON\n",
      "1 USD = 108.23 RSD\n",
      "1 USD = 97.19 RUB\n",
      "1 USD = 1368.24 RWF\n",
      "1 USD = 3.75 SAR\n",
      "1 USD = 8.32 SBD\n",
      "1 USD = 14.59 SCR\n",
      "1 USD = 453.81 SDG\n",
      "1 USD = 10.64 SEK\n",
      "1 USD = 1.32 SGD\n",
      "1 USD = 0.771 SHP\n",
      "1 USD = 22.64 SLE\n",
      "1 USD = 22641.02 SLL\n",
      "1 USD = 571.84 SOS\n",
      "1 USD = 34.36 SRD\n",
      "1 USD = 3438.72 SSP\n",
      "1 USD = 22.65 STN\n",
      "1 USD = 12893.51 SYP\n",
      "1 USD = 17.7 SZL\n",
      "1 USD = 33.79 THB\n",
      "1 USD = 10.66 TJS\n",
      "1 USD = 3.5 TMT\n",
      "1 USD = 3.1 TND\n",
      "1 USD = 2.34 TOP\n",
      "1 USD = 34.3 TRY\n",
      "1 USD = 6.75 TTD\n",
      "1 USD = 1.52 TVD\n",
      "1 USD = 32.05 TWD\n",
      "1 USD = 2709.89 TZS\n",
      "1 USD = 41.36 UAH\n",
      "1 USD = 3659.06 UGX\n",
      "1 USD = 41.61 UYU\n",
      "1 USD = 12785.54 UZS\n",
      "1 USD = 41.74 VES\n",
      "1 USD = 25370.07 VND\n",
      "1 USD = 120.61 VUV\n",
      "1 USD = 2.75 WST\n",
      "1 USD = 606.48 XAF\n",
      "1 USD = 2.7 XCD\n",
      "1 USD = 0.752 XDR\n",
      "1 USD = 606.48 XOF\n",
      "1 USD = 110.33 XPF\n",
      "1 USD = 250.1 YER\n",
      "1 USD = 17.7 ZAR\n",
      "1 USD = 26.65 ZMW\n",
      "1 USD = 28.37 ZWL\n"
     ]
    }
   ],
   "execution_count": 102
  },
  {
   "metadata": {
    "ExecuteTime": {
     "end_time": "2025-10-30T23:57:30.872219Z",
     "start_time": "2025-10-30T23:57:30.867714Z"
    }
   },
   "cell_type": "code",
   "source": [
    "# Convert to DataFrame\n",
    "import pandas as pd\n",
    "df3 = pd.DataFrame.from_dict(rates, orient='index', columns=['Rate'])\n",
    "print(df3)"
   ],
   "id": "3e1978310a5da35e",
   "outputs": [
    {
     "name": "stdout",
     "output_type": "stream",
     "text": [
      "       Rate\n",
      "USD    1.00\n",
      "AED    3.67\n",
      "AFN   66.61\n",
      "ALL   91.19\n",
      "AMD  387.08\n",
      "..      ...\n",
      "XPF  110.33\n",
      "YER  250.10\n",
      "ZAR   17.70\n",
      "ZMW   26.65\n",
      "ZWL   28.37\n",
      "\n",
      "[162 rows x 1 columns]\n"
     ]
    }
   ],
   "execution_count": 98
  },
  {
   "metadata": {},
   "cell_type": "markdown",
   "source": [
    "Question 4\n",
    "1) Create a new SQLite database called students.db.\n",
    "2) Create a table students with the following fields:\n",
    "- id (INTEGER, PRIMARY KEY)\n",
    "- name (TEXT)\n",
    "- major (TEXT)\n",
    "- gpa (REAL)\n",
    "3) Insert following 5 student records into the table using Python’s sqlite3 module.\n",
    "\n",
    "id name major gpa\n",
    "- 25011 Alice Computer Science 3.9\n",
    "- 25012 Bob Mathematics 3.4\n",
    "- 25013 Charlie Physics 3.7\n",
    "- 25014 Joe Computer Science 3.8\n",
    "- 25015 Evan Economics 3.2\n",
    "4) Write a SQL query (executed from Python) to retrieve all students majoring in “Computer\n",
    "Science”, then convert the query results to a Pandas DataFrame and display it."
   ],
   "id": "b094dc807ac0d2a4"
  },
  {
   "metadata": {
    "ExecuteTime": {
     "end_time": "2025-10-31T00:18:22.921603Z",
     "start_time": "2025-10-31T00:18:22.918470Z"
    }
   },
   "cell_type": "code",
   "source": [
    "import sqlite3\n",
    "conn = sqlite3.connect('students.db')\n",
    "# Create db\n",
    "conn = sqlite3.connect('students.db')"
   ],
   "id": "10f8d89b27bb916a",
   "outputs": [],
   "execution_count": 110
  },
  {
   "metadata": {},
   "cell_type": "code",
   "outputs": [],
   "execution_count": null,
   "source": "cursor = conn.cursor()",
   "id": "2336677af143e4d3"
  },
  {
   "metadata": {},
   "cell_type": "code",
   "source": [
    "# Create Table\n",
    "cursor.execute('''\n",
    "               CREATE TABLE students(\n",
    "               id INTEGER PRIMARY KEY,\n",
    "               name TEXT,\n",
    "               major TEXT,\n",
    "               gpa REAL\n",
    "            )\n",
    "''')\n"
   ],
   "id": "44317bd7d6829538",
   "outputs": [],
   "execution_count": null
  },
  {
   "metadata": {
    "ExecuteTime": {
     "end_time": "2025-10-31T00:22:17.915753Z",
     "start_time": "2025-10-31T00:22:17.913072Z"
    }
   },
   "cell_type": "code",
   "source": "conn.commit()",
   "id": "ee662cf2fced59a6",
   "outputs": [],
   "execution_count": 115
  },
  {
   "metadata": {
    "ExecuteTime": {
     "end_time": "2025-10-31T00:32:11.911767Z",
     "start_time": "2025-10-31T00:32:11.895281Z"
    }
   },
   "cell_type": "code",
   "source": [
    "cursor.execute('DELETE FROM students')\n",
    "conn.commit()\n",
    "\n",
    "students_data = [\n",
    "    (25011, 'Alice', 'Computer Science', 3.9),\n",
    "    (25012, 'Bob', \"Mathmatics\", 3.4),\n",
    "    (25013, 'Charlie', 'Physics', 3.7),\n",
    "    (25014, 'Joe', 'Computer Science', 3.8),\n",
    "    (25015, 'Evan', 'Economics', 3.2)\n",
    "]\n",
    "\n",
    "cursor.executemany('''\n",
    "    INSERT INTO students (id, name, major, gpa)\n",
    "    VALUES (?, ?, ?, ?)\n",
    "    ''', students_data)\n",
    "\n",
    "conn.commit()"
   ],
   "id": "939910f0e1106757",
   "outputs": [],
   "execution_count": 120
  },
  {
   "metadata": {
    "ExecuteTime": {
     "end_time": "2025-10-31T00:35:08.881763Z",
     "start_time": "2025-10-31T00:35:08.872090Z"
    }
   },
   "cell_type": "code",
   "source": [
    "import pandas as pd\n",
    "\n",
    "query = '''\n",
    "    SELECT * FROM students\n",
    "    WHERE major = 'Computer Science'\n",
    "        '''\n",
    "\n",
    "cursor.execute(query)\n",
    "results = cursor.fetchall()\n",
    "\n",
    "df4 = pd.DataFrame(results, columns=['id', 'name', 'major', 'gpa'])\n",
    "print(df4)"
   ],
   "id": "d88ed4a600601c5d",
   "outputs": [
    {
     "name": "stdout",
     "output_type": "stream",
     "text": [
      "      id   name             major  gpa\n",
      "0  25011  Alice  Computer Science  3.9\n",
      "1  25014    Joe  Computer Science  3.8\n"
     ]
    }
   ],
   "execution_count": 121
  },
  {
   "metadata": {},
   "cell_type": "markdown",
   "source": "Data I have worked with in the past, like sales data, that includes products names, sales, revenue, dates, etc. Would come in Excel files with thousands of rows. Before this I would open Excel files and use formulas and pivot tables to analyze, for example: sales. With large datasets, Excel tends to slow down. Now, I am able to use python with pandas to read these files, clean the data, and create visualizations. I would like to use pipelines to automatically process files. I can also use SQL to store historical data in a database and run queries much faster.",
   "id": "2105a8d8683775cf"
  }
 ],
 "metadata": {
  "kernelspec": {
   "display_name": "Python 3",
   "language": "python",
   "name": "python3"
  },
  "language_info": {
   "codemirror_mode": {
    "name": "ipython",
    "version": 2
   },
   "file_extension": ".py",
   "mimetype": "text/x-python",
   "name": "python",
   "nbconvert_exporter": "python",
   "pygments_lexer": "ipython2",
   "version": "2.7.6"
  }
 },
 "nbformat": 4,
 "nbformat_minor": 5
}
